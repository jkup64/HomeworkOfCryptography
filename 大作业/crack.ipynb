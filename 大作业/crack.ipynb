{
 "cells": [
  {
   "cell_type": "markdown",
   "metadata": {},
   "source": [
    "### 预处理"
   ]
  },
  {
   "cell_type": "code",
   "execution_count": 1,
   "metadata": {},
   "outputs": [],
   "source": [
    "import sys\n",
    "\n",
    "crack_results = {}\n",
    "ns = []\n",
    "es = []\n",
    "cs = []\n",
    "\n",
    "ns_es_cs = []\n",
    "for i in range(21):\n",
    "    with open(sys.path[0] + \"/附件3-2（发布截获数据）/Frame\" + str(i), 'r') as cipher_file:\n",
    "        n_e_c = cipher_file.read()\n",
    "        # 去除重复帧\n",
    "        if ns_es_cs.count(n_e_c) == 0:\n",
    "            ns_es_cs.append(n_e_c)\n",
    "            ns.append(int(n_e_c[:256], 16))\n",
    "            es.append(int(n_e_c[256:512], 16))\n",
    "            cs.append(int(n_e_c[512:], 16))\n",
    "            \n",
    "num_of_frames = len(ns_es_cs)"
   ]
  },
  {
   "cell_type": "markdown",
   "metadata": {},
   "source": [
    "### 因素碰撞"
   ]
  },
  {
   "cell_type": "code",
   "execution_count": 2,
   "metadata": {},
   "outputs": [
    {
     "name": "stdout",
     "output_type": "stream",
     "text": [
      "遍历所有N，若存在N之间有公因数，则存在因素碰撞攻击:\n",
      "[Obj] [(1, 18)]\n",
      "[Crack] frame 1 -> m = . Imagin\n",
      "[Crack] frame 18 -> m = m A to B\n"
     ]
    }
   ],
   "source": [
    "import gmpy2\n",
    "from Crypto.Util.number import long_to_bytes\n",
    "\n",
    "print(\"遍历所有N，若存在N之间有公因数，则存在因素碰撞攻击:\")\n",
    "same_factor_objs = []\n",
    "for i in range(num_of_frames):\n",
    "    for j in range(i + 1, num_of_frames):\n",
    "        # n之间不可能存在倍数关系，但是要检查是否相等，相等则使用共模攻击\n",
    "        if (ns[i] != ns[j]) and (gmpy2.gcd(ns[i], ns[j]) != 1):\n",
    "            same_factor_objs.append((i, j))\n",
    "print(\"[Obj]\", same_factor_objs)\n",
    "\n",
    "def crack_on_same_factor(same_factor_objs):\n",
    "    for round in range(len(same_factor_objs)):\n",
    "        p = gmpy2.gcd(ns[same_factor_objs[round][0]], ns[same_factor_objs[round][1]])\n",
    "        for i in range(2):\n",
    "            index = same_factor_objs[round][i]\n",
    "            q = ns[index] // p\n",
    "            varphi_n = gmpy2.mpz((p - 1) * (q - 1))\n",
    "            d = gmpy2.invert(es[index], varphi_n)\n",
    "            int_m = pow(cs[index], d, ns[index])\n",
    "            str_m = long_to_bytes(int_m)[-8:].decode()\n",
    "            crack_results[index] = str_m\n",
    "            print(\"[Crack] frame {} -> m = {}\".format(index, str_m))\n",
    "            \n",
    "crack_on_same_factor(same_factor_objs)"
   ]
  },
  {
   "cell_type": "markdown",
   "metadata": {},
   "source": [
    "### 共模攻击\n",
    "假设使用相同模数时，是对相同的明文进行加密"
   ]
  },
  {
   "cell_type": "code",
   "execution_count": 3,
   "metadata": {},
   "outputs": [
    {
     "name": "stdout",
     "output_type": "stream",
     "text": [
      "遍历所有模数N，存在重复N，且它们e不同则可能存在共模攻击:\n",
      "[Obj] [[0, 4]]\n",
      "[Crack] Frame [0, 4] -> m = My secre\n"
     ]
    }
   ],
   "source": [
    "from Crypto.Util.number import long_to_bytes\n",
    "\n",
    "print(\"遍历所有模数N，存在重复N，且它们e不同则可能存在共模攻击:\")\n",
    "scanned = []\n",
    "same_module_objs= []\n",
    "for i in range(num_of_frames):\n",
    "    if scanned.count(ns[i]) == 0:\n",
    "        attack_candidate = [i]\n",
    "        for j in range(i + 1, num_of_frames):\n",
    "            if (ns[i] == ns[j]) and (es[i] != es[j]):\n",
    "                attack_candidate.append(j)\n",
    "    if len(attack_candidate) > 1:\n",
    "        same_module_objs.append(attack_candidate)\n",
    "print(\"[Obj]\", same_module_objs)\n",
    "\n",
    "# 欧几里得算法\n",
    "def egcd(a, b):\n",
    "    if a == 0:\n",
    "        return (b, 0, 1)\n",
    "    else:\n",
    "        g, y, x = egcd(b % a, a)\n",
    "        return (g, x - (b // a) * y, y)\n",
    "\n",
    "def crack_on_same_module(same_module_objs):\n",
    "    for round in range(len(same_module_objs)):\n",
    "        index0 = same_module_objs[round][0]\n",
    "        index1 = same_module_objs[round][1]\n",
    "        g, r, s = egcd(es[index0], es[index1])\n",
    "        assert r * es[index0] + s * es[index1] == g\n",
    "        int_m = pow(cs[index0], r, ns[index0]) * pow(cs[index1], s, ns[index0]) % ns[index0]\n",
    "        str_m = long_to_bytes(int_m)[-8:].decode()\n",
    "        crack_results[index0] = str_m\n",
    "        crack_results[index1] = str_m\n",
    "        print(\"[Crack] Frame {} -> m = {}\".format(same_module_objs[round], str_m))\n",
    "    return\n",
    "\n",
    "crack_on_same_module(same_module_objs)"
   ]
  },
  {
   "cell_type": "markdown",
   "metadata": {},
   "source": [
    "### 低加密指数广播攻击"
   ]
  },
  {
   "cell_type": "code",
   "execution_count": 4,
   "metadata": {},
   "outputs": [
    {
     "name": "stdout",
     "output_type": "stream",
     "text": [
      "遍历所有指数e，如果存在e小于10，则可能成为低加密指数广播的攻击目标\n",
      "[Objs] {5: [3, 8, 12, 16, 20], 3: [7, 11, 15]}\n",
      "[Crack] frame [3, 8, 12, 16, 20] -> m = t is a f\n"
     ]
    }
   ],
   "source": [
    "import gmpy2\n",
    "from itertools import combinations\n",
    "\n",
    "print(\"遍历所有指数e，如果存在e小于10，则可能成为低加密指数广播的攻击目标\")\n",
    "low_power_objs = {}\n",
    "for i in range(num_of_frames):\n",
    "    if es[i] <= 10:\n",
    "        if low_power_objs.get(es[i]) == None:\n",
    "            low_power_objs[es[i]] = [i]\n",
    "        else:\n",
    "            low_power_objs[es[i]].append(i)\n",
    "print(\"[Objs]\", low_power_objs)\n",
    "\n",
    "def chinese_remainder_theorem(a_list, m_list):\n",
    "    for (x, y) in combinations(m_list, 2):\n",
    "        assert gmpy2.gcd(x, y) == 1\n",
    "    m = 1\n",
    "    result = 0\n",
    "    for mi in m_list:\n",
    "        m *= mi\n",
    "    for i in range(len(m_list)):\n",
    "        Mi = m // m_list[i]\n",
    "        Mi_re = egcd(Mi, m_list[i])[1]\n",
    "        result += Mi * Mi_re * a_list[i]\n",
    "    return result % m\n",
    "\n",
    "def crack_on_low_power(low_power_objs):\n",
    "    for power in low_power_objs.keys():\n",
    "        seqs = low_power_objs[power]\n",
    "        c_list = [cs[i] for i in seqs]\n",
    "        n_list = [ns[i] for i in seqs]\n",
    "        m_pow = chinese_remainder_theorem(c_list, n_list)\n",
    "        int_m = gmpy2.iroot(gmpy2.mpz(m_pow), power)\n",
    "        str_m = long_to_bytes(int_m[0])[-8:].decode()\n",
    "        for i in seqs:\n",
    "            crack_results[i] = str_m\n",
    "        print(\"[Crack] frame {} -> m = {}\".format(seqs, str_m))\n",
    "        return\n",
    "\n",
    "crack_on_low_power(low_power_objs)"
   ]
  },
  {
   "cell_type": "markdown",
   "metadata": {},
   "source": [
    "### 费马分解法"
   ]
  },
  {
   "cell_type": "code",
   "execution_count": 5,
   "metadata": {},
   "outputs": [
    {
     "name": "stdout",
     "output_type": "stream",
     "text": [
      "[Crack] frame 10 -> m = will get\n"
     ]
    }
   ],
   "source": [
    "def crack_on_fermat_resolve():\n",
    "    for i in range(num_of_frames):\n",
    "        x = gmpy2.isqrt(ns[i]) + 1\n",
    "        y = gmpy2.isqrt(x * x - ns[i])\n",
    "        count = 0\n",
    "        while (x * x - ns[i] != y * y) and count < 100000:\n",
    "            x += 1\n",
    "            y = gmpy2.isqrt(x * x - ns[i])\n",
    "            count += 1\n",
    "        if x * x - ns[i] == y * y:\n",
    "            p = (x + y) % ns[i]\n",
    "            q = (x - y) % ns[i]\n",
    "            varphi_n = (p - 1) * (q - 1)\n",
    "            d = gmpy2.invert(es[i], varphi_n)\n",
    "            int_m = pow(cs[i], d, ns[i])\n",
    "            str_m = long_to_bytes(int_m)[-8:].decode()\n",
    "            crack_results[i] = str_m\n",
    "            print(\"[Crack] frame {} -> m = {}\".format(i, str_m))\n",
    "\n",
    "crack_on_fermat_resolve()"
   ]
  },
  {
   "cell_type": "markdown",
   "metadata": {},
   "source": [
    "### Pollard p-1 分解"
   ]
  },
  {
   "cell_type": "code",
   "execution_count": 6,
   "metadata": {},
   "outputs": [
    {
     "name": "stdout",
     "output_type": "stream",
     "text": [
      "[Crack] frame 2 -> m =  That is\n",
      "[Crack] frame 6 -> m =  \"Logic \n",
      "[Crack] frame 19 -> m = instein.\n"
     ]
    }
   ],
   "source": [
    "def pollard(n):\n",
    "    m = 2   # gcd(2, n) = 1\n",
    "    max_k = 200000\n",
    "    for k in range(1, max_k + 1):\n",
    "        m = pow(m, k, n)  # 2^(k!)\n",
    "        if gmpy2.gcd(m - 1, n) != 1:\n",
    "            return gmpy2.gcd(m - 1, n)\n",
    "    return\n",
    "\n",
    "def crack_on_pollard_resolve():\n",
    "    for i in range(num_of_frames):\n",
    "        p = pollard(ns[i])\n",
    "        if p != None:\n",
    "            q = ns[i] // p\n",
    "            varphi_n = (p - 1) * (q - 1)\n",
    "            d = gmpy2.invert(es[i], varphi_n)\n",
    "            int_m = pow(cs[i], d, ns[i])\n",
    "            str_m = long_to_bytes(int_m)[-8:].decode()\n",
    "            crack_results[i] = str_m\n",
    "            print(\"[Crack] frame {} -> m = {}\".format(i, str_m))\n",
    "\n",
    "crack_on_pollard_resolve()"
   ]
  },
  {
   "cell_type": "code",
   "execution_count": 7,
   "metadata": {},
   "outputs": [
    {
     "name": "stdout",
     "output_type": "stream",
     "text": [
      "[Crack] frame 2 -> m =  That is\n",
      "[Crack] frame 6 -> m =  \"Logic \n",
      "[Crack] frame 19 -> m = instein.\n"
     ]
    }
   ],
   "source": [
    "from multiprocessing import Pool, Manager\n",
    "\n",
    "def pollard(i, temp_dict):\n",
    "    n = ns[i]\n",
    "    m = 2   # gcd(2, n) = 1\n",
    "    max_k = 200000\n",
    "    for k in range(1, max_k + 1):\n",
    "        m = pow(m, k, n)  # 2^(k!)\n",
    "        if gmpy2.gcd(m - 1, n) != 1:\n",
    "            p = gmpy2.gcd(m - 1, n)\n",
    "            q = n // p\n",
    "            varphi_n = (p - 1) * (q - 1)\n",
    "            d = gmpy2.invert(es[i], varphi_n)\n",
    "            int_m = pow(cs[i], d, ns[i])\n",
    "            str_m = long_to_bytes(int_m)[-8:].decode()\n",
    "            # crack_results[i] = str_m\n",
    "            temp_dict[n] = str_m\n",
    "            print(\"[Crack] frame {} -> m = {}\".format(i, str_m))\n",
    "            return\n",
    "    return\n",
    "\n",
    "def crack_on_pollard_resolve():\n",
    "    temp_dict = Manager().dict()\n",
    "    po = Pool(4)\n",
    "    for i in range(num_of_frames):\n",
    "        po.apply_async(func=pollard, args=(i, temp_dict,))\n",
    "    po.close()\n",
    "    po.join()\n",
    "    for i in temp_dict.keys():\n",
    "        crack_results[i] = temp_dict[i]\n",
    "\n",
    "crack_on_pollard_resolve()"
   ]
  },
  {
   "cell_type": "code",
   "execution_count": 8,
   "metadata": {},
   "outputs": [
    {
     "name": "stdout",
     "output_type": "stream",
     "text": [
      "Frame  0 -> My secre\n",
      "Frame  1 -> . Imagin\n",
      "Frame  2 ->  That is\n",
      "Frame  3 -> t is a f\n",
      "Frame  4 -> My secre\n",
      "Frame  5 -> \n",
      "Frame  6 ->  \"Logic \n",
      "Frame  7 -> \n",
      "Frame  8 -> t is a f\n",
      "Frame  9 -> \n",
      "Frame 10 -> will get\n",
      "Frame 11 -> \n",
      "Frame 12 -> t is a f\n",
      "Frame 13 -> \n",
      "Frame 14 -> \n",
      "Frame 15 -> \n",
      "Frame 16 -> t is a f\n",
      "Frame 17 -> \n",
      "Frame 18 -> m A to B\n",
      "Frame 19 -> instein.\n",
      "Frame 20 -> t is a f\n"
     ]
    }
   ],
   "source": [
    "# 打印消息\n",
    "for i in range(num_of_frames):\n",
    "    if crack_results.get(i) == None:\n",
    "\n",
    "        print(\"Frame {:>2d} -> {}\".format(i, ''))\n",
    "    else:\n",
    "        print(\"Frame {:>2d} -> {}\".format(i, crack_results[i]))"
   ]
  }
 ],
 "metadata": {
  "interpreter": {
   "hash": "31f2aee4e71d21fbe5cf8b01ff0e069b9275f58929596ceb00d14d90e3e16cd6"
  },
  "kernelspec": {
   "display_name": "Python 3.10.1 64-bit",
   "language": "python",
   "name": "python3"
  },
  "language_info": {
   "codemirror_mode": {
    "name": "ipython",
    "version": 3
   },
   "file_extension": ".py",
   "mimetype": "text/x-python",
   "name": "python",
   "nbconvert_exporter": "python",
   "pygments_lexer": "ipython3",
   "version": "3.10.1"
  },
  "orig_nbformat": 4
 },
 "nbformat": 4,
 "nbformat_minor": 2
}
